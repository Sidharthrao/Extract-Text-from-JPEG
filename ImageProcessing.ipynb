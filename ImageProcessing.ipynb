{
 "cells": [
  {
   "cell_type": "markdown",
   "metadata": {},
   "source": [
    "#### Extracting date from jpeg of payment slips using pytesseract & regular expression"
   ]
  },
  {
   "cell_type": "code",
   "execution_count": 1,
   "metadata": {},
   "outputs": [],
   "source": [
    "# Importing relevant packages\n",
    "import pytesseract \n",
    "pytesseract.pytesseract.tesseract_cmd = r\"C:\\Program Files\\Tesseract-OCR\\tesseract.exe\""
   ]
  },
  {
   "cell_type": "code",
   "execution_count": 2,
   "metadata": {},
   "outputs": [],
   "source": [
    "from PIL import Image\n",
    "from pytesseract import image_to_string"
   ]
  },
  {
   "cell_type": "code",
   "execution_count": 3,
   "metadata": {},
   "outputs": [
    {
     "name": "stdout",
     "output_type": "stream",
     "text": [
      "QRAWCITYTHELOUNGE\n",
      "MALVIYANAGARBHOPAL\n",
      "\n",
      "Cont:7225811153;\n",
      "BillNo4896TableNoR306\n",
      "07-Jun-201921:18:40\n"
     ]
    }
   ],
   "source": [
    "image = Image.open('FilePath/0e0dd005.jpeg')\n",
    "text = image_to_string(image,lang='eng') # languages can be changed based on requirement, by default it will be english\n",
    "# type(text) --> above converts text to strings\n",
    "\n",
    "#strip is used to take out spaces if any in other images provided\n",
    "text = text.replace(\" \",\"\")\n",
    "print(text)"
   ]
  },
  {
   "cell_type": "code",
   "execution_count": 4,
   "metadata": {},
   "outputs": [],
   "source": [
    "# Importing regular expression & Date time\n",
    "import re as r\n",
    "from datetime import datetime"
   ]
  },
  {
   "cell_type": "code",
   "execution_count": 5,
   "metadata": {},
   "outputs": [
    {
     "name": "stdout",
     "output_type": "stream",
     "text": [
      "<re.Match object; span=(77, 88), match='07-Jun-2019'>\n"
     ]
    }
   ],
   "source": [
    "# Image 1\n",
    "id = r.search(r'\\d{2}-\\w{3}-\\d{4}',text)\n",
    "print(id)\n",
    "\n",
    "                  \n",
    "            "
   ]
  },
  {
   "cell_type": "code",
   "execution_count": 6,
   "metadata": {},
   "outputs": [
    {
     "name": "stdout",
     "output_type": "stream",
     "text": [
      "2019-06-07\n"
     ]
    }
   ],
   "source": [
    "date = datetime.strptime(id.group(),'%d-%b-%Y').date()\n",
    "print(date)"
   ]
  },
  {
   "cell_type": "code",
   "execution_count": 7,
   "metadata": {},
   "outputs": [
    {
     "name": "stdout",
     "output_type": "stream",
     "text": [
      "a:\n",
      "a\n",
      "\n",
      "rian\n",
      "\n",
      "\n",
      "\n",
      "Bhurat\n",
      "\n",
      "UDAYAFILLINGSTATION\n",
      "\n",
      "MATTUPATTYROAD\n",
      "\n",
      "MUNNAR\n",
      "\n",
      "04865230318\n",
      "ORIGINAL\n",
      "\n",
      "DkDDDeDaEDSeDeDaaaDCDODO\n",
      "\n",
      "29-MAY-201914:02:23\n",
      "INVOICENO;292\n",
      "VEHICLENO:NOTENTERED\n",
      "\n",
      "NOZZLENO:1\n",
      "\n",
      "PRODUCT:PETROL\n",
      "\n",
      "RATE:75.01INR/Ltr\n",
      "VOUUMBS1.33.Lt¢\n",
      "AMOUNT:100.00INR\n",
      "\n",
      "DekDADIDADDEDCDNCDDCcocDEDCDCBCDEDI\n",
      "\n",
      "S.T..No:27430268741C\n",
      "M.S.T.No:27430268741V\n",
      "\n",
      "eeiESETALCKLDCDIOCIEDCa\n",
      "\n",
      "ThankYou!VisitAgain\n",
      "\n",
      "\n",
      "\n",
      "4\n",
      "4\n",
      "a\n",
      "\n",
      "a\n",
      "A\n"
     ]
    }
   ],
   "source": [
    "#Image 2\n",
    "image1 = Image.open('FilePath/0a0ebd53.jpeg')\n",
    "text1 = image_to_string(image1,lang='eng') # languages can be changed based on requirement, by default it will be english\n",
    "\n",
    "text1 = text1.replace(\" \",\"\")\n",
    "print(text1)\n"
   ]
  },
  {
   "cell_type": "code",
   "execution_count": 8,
   "metadata": {},
   "outputs": [
    {
     "name": "stdout",
     "output_type": "stream",
     "text": [
      "<re.Match object; span=(115, 126), match='29-MAY-2019'>\n"
     ]
    }
   ],
   "source": [
    "id1 = r.search(r'\\d{2}-\\w{3}-\\d{4}',text1)\n",
    "print(id1)\n"
   ]
  },
  {
   "cell_type": "code",
   "execution_count": 9,
   "metadata": {},
   "outputs": [
    {
     "name": "stdout",
     "output_type": "stream",
     "text": [
      "2019-05-29\n"
     ]
    }
   ],
   "source": [
    "date1 = datetime.strptime(id1.group(),'%d-%b-%Y').date()\n",
    "print(date1)"
   ]
  },
  {
   "cell_type": "code",
   "execution_count": null,
   "metadata": {},
   "outputs": [],
   "source": []
  }
 ],
 "metadata": {
  "kernelspec": {
   "display_name": "Python 3",
   "language": "python",
   "name": "python3"
  },
  "language_info": {
   "codemirror_mode": {
    "name": "ipython",
    "version": 3
   },
   "file_extension": ".py",
   "mimetype": "text/x-python",
   "name": "python",
   "nbconvert_exporter": "python",
   "pygments_lexer": "ipython3",
   "version": "3.7.3"
  }
 },
 "nbformat": 4,
 "nbformat_minor": 4
}
